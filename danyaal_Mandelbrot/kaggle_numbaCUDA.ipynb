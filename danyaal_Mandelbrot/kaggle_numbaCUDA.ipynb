{
 "cells": [
  {
   "cell_type": "code",
   "execution_count": null,
   "id": "c4a17dad-99df-4c50-92e3-c2c96d72e33c",
   "metadata": {},
   "outputs": [],
   "source": [
    "#  https://www.kaggle.com/code/jlesuffleur/cuda-accelerating-mandelbrot-fractal-with-gpu\n",
    "\n",
    "import time\n",
    "import math\n",
    "import numpy as np\n",
    "import matplotlib.pyplot as plt\n",
    "from matplotlib import cm\n",
    "import copy\n",
    "%matplotlib inline\n",
    "# parallel\n",
    "from numba import prange, jit, njit"
   ]
  },
  {
   "cell_type": "markdown",
   "id": "80752b59-0f3c-4aba-956b-5aa1df0e3a7c",
   "metadata": {},
   "source": [
    "The function mandelbrot() is used in three modes: \n",
    "* pure python: three comment lines\n",
    "* jit-compiler: active  `@jit(nopython=True)`  and use   `for x in range`\n",
    "* njit-OpenMP-compiler: activate `@njit(parallel=True)`and use `for x in prange`"
   ]
  },
  {
   "cell_type": "code",
   "execution_count": null,
   "id": "b6d9fc68-5d97-4fb9-b9a8-ece47859e26b",
   "metadata": {},
   "outputs": [],
   "source": [
    "#@jit(nopython=True)\n",
    "@njit(parallel=True)\n",
    "def mandelbrot(xpixels=600, maxiter=100, xmin=-2.6, xmax=1.85, ymin=-1.25, ymax=1.25):\n",
    "\n",
    "    # Compute ypixels so the image is not stretched (1:1 ratio)\n",
    "    ypixels = round(xpixels / (xmax-xmin) * (ymax-ymin))\n",
    "    \n",
    "    # Initialisation of result to 0\n",
    "    mat = np.zeros((xpixels, ypixels))\n",
    "    \n",
    "    # Looping through pixels\n",
    "#    for x in range(xpixels):\n",
    "    for x in prange(xpixels):\n",
    "        for y in range(ypixels):\n",
    "            \n",
    "            # Mapping pixel to C\n",
    "            creal = xmin + x / xpixels * (xmax - xmin)\n",
    "            cim = ymin + y / ypixels * (ymax - ymin)\n",
    "            \n",
    "            # Initialisation of C and Z\n",
    "            c = complex(creal, cim)\n",
    "            z = complex(0, 0)\n",
    "            \n",
    "            # Mandelbrot iteration\n",
    "            for n in range(maxiter):\n",
    "                z = z*z + c\n",
    "                # If unbounded: save iteration count and break\n",
    "                if z.real*z.real + z.imag*z.imag > 4.0*4.0:\n",
    "                    # Smooth iteration count\n",
    "                    mat[x,y] = n + 1 #- math.log(math.log(abs(z*z+c)))/math.log(2)\n",
    "                    break\n",
    "                # Otherwise: leave it to 0\n",
    "    return(mat)"
   ]
  },
  {
   "cell_type": "code",
   "execution_count": null,
   "id": "3a25a2ef-8f43-41fc-9d66-f9d5eaf78bf4",
   "metadata": {},
   "outputs": [],
   "source": [
    "def draw_image(mat, cmap='inferno', powern=0.5, dpi=72):\n",
    "    ## Value normalization\n",
    "    # Apply power normalization, because number of iteration is \n",
    "    # distributed according to a power law (fewer pixels have \n",
    "    # higher iteration number)\n",
    "    mat = np.power(mat, powern)\n",
    "    \n",
    "    # Colormap: set the color the black for values under vmin (inner points of\n",
    "    # the set), vmin will be set in the imshow function\n",
    "    new_cmap = copy.copy(cm.get_cmap(cmap))\n",
    "    new_cmap.set_under('black')\n",
    "    \n",
    "    ## Plotting image\n",
    "    \n",
    "    # Figure size\n",
    "    plt.figure(figsize=(mat.shape[0]/dpi, mat.shape[1]/dpi))\n",
    "    \n",
    "    # Plotting mat with cmap\n",
    "    # vmin=1 because smooth iteration count is always > 1\n",
    "    # We need to transpose mat because images use row-major\n",
    "    # ordering (C convention)\n",
    "    # origin='lower' because mat[0,0] is the lower left pixel\n",
    "    plt.imshow(mat.T, cmap=new_cmap, vmin=1, origin = 'lower')\n",
    "    \n",
    "    # Remove axis and margins\n",
    "    plt.subplots_adjust(left=0, right=1, bottom=0, top=1)\n",
    "    plt.axis('off')\n"
   ]
  },
  {
   "cell_type": "code",
   "execution_count": null,
   "id": "6c257671-bebe-455e-944a-a1b47437baf2",
   "metadata": {},
   "outputs": [],
   "source": [
    "# with CUDA\n",
    "from numba import cuda"
   ]
  },
  {
   "cell_type": "code",
   "execution_count": null,
   "id": "7ab961ba-9d76-4ba3-94fe-9d8dfb236b9c",
   "metadata": {
    "editable": true,
    "slideshow": {
     "slide_type": ""
    },
    "tags": []
   },
   "outputs": [],
   "source": [
    "@cuda.jit\n",
    "def mandelbrot_gpu(mat, maxiter=100, xmin=-2.6, xmax=1.85, ymin=-1.25, ymax=1.25):\n",
    "    x = cuda.blockIdx.x\n",
    "    y = cuda.threadIdx.x\n",
    "    \n",
    "    # Mapping pixel to C\n",
    "    creal = xmin + x / mat.shape[0] * (xmax - xmin)\n",
    "    cim = ymin + y / mat.shape[1] * (ymax - ymin)\n",
    "    \n",
    "    # Initialisation of C and Z\n",
    "    c = complex(creal, cim)\n",
    "    z = complex(0, 0)\n",
    "    \n",
    "    # Mandelbrot iteration\n",
    "    for n in range(maxiter):\n",
    "        z = z*z+c\n",
    "        # If unbounded: save iteration count and break\n",
    "        if z.real*z.real + z.imag*z.imag > 4.0*4.0:\n",
    "            # Smooth iteration count\n",
    "            mat[x,y] = n + 1 #- math.log(math.log(abs(z*z+c)))/math.log(2)\n",
    "            break\n",
    "        # Otherwise: leave it to 0\n"
   ]
  },
  {
   "cell_type": "code",
   "execution_count": null,
   "id": "ab5c35ae-bc9f-4594-9ad6-d57e755831a0",
   "metadata": {},
   "outputs": [],
   "source": [
    "# Parameters\n",
    "#maxiter = 100\n",
    "#xmin, xmax = -2.6, 1.85\n",
    "#ymin, ymax = -1.25, 1.25\n",
    "#xpixels = 600\n",
    "maxiter = 120\n",
    "xmin, xmax = -0.22, -0.219\n",
    "ymin, ymax = -0.70, -0.699\n",
    "xpixels = 1000\n",
    "ypixels = round(xpixels / (xmax-xmin) * (ymax-ymin))\n",
    "\n",
    "mat = np.zeros((xpixels, ypixels))"
   ]
  },
  {
   "cell_type": "code",
   "execution_count": null,
   "id": "f52bb8ea-bde2-4e06-a882-97a5fe13f60b",
   "metadata": {},
   "outputs": [],
   "source": [
    "mat=mandelbrot(xpixels, maxiter, xmin, xmax, ymin, ymax)\n",
    "#mat=mandelbrot()\n",
    "#draw_image(mat)"
   ]
  },
  {
   "cell_type": "code",
   "execution_count": null,
   "id": "47524a67-90c0-4ba5-b042-95f49e1f3835",
   "metadata": {},
   "outputs": [],
   "source": [
    "%timeit -n 10 -r 3 mat=mandelbrot(xpixels, maxiter, xmin, xmax, ymin, ymax)"
   ]
  },
  {
   "cell_type": "code",
   "execution_count": null,
   "id": "ebc5652d-b9fb-4e3f-81e5-3a7779ffc374",
   "metadata": {},
   "outputs": [],
   "source": [
    "# Running and plotting result\n",
    "mandelbrot_gpu[xpixels, ypixels](mat, maxiter, xmin, xmax, ymin, ymax)\n",
    "#draw_image(mat)"
   ]
  },
  {
   "cell_type": "code",
   "execution_count": null,
   "id": "2816d9c8-5d72-4fe0-9f87-2f84336f5822",
   "metadata": {},
   "outputs": [],
   "source": [
    "%timeit -n 10 -r 3 mandelbrot_gpu[xpixels, ypixels](mat, maxiter, xmin, xmax, ymin, ymax)"
   ]
  },
  {
   "cell_type": "code",
   "execution_count": null,
   "id": "582f6b0f-72ab-452c-96ab-6686868ff2d0",
   "metadata": {},
   "outputs": [],
   "source": []
  }
 ],
 "metadata": {
  "kernelspec": {
   "display_name": "Python 3 (ipykernel)",
   "language": "python",
   "name": "python3"
  },
  "language_info": {
   "codemirror_mode": {
    "name": "ipython",
    "version": 3
   },
   "file_extension": ".py",
   "mimetype": "text/x-python",
   "name": "python",
   "nbconvert_exporter": "python",
   "pygments_lexer": "ipython3",
   "version": "3.11.6"
  }
 },
 "nbformat": 4,
 "nbformat_minor": 5
}
