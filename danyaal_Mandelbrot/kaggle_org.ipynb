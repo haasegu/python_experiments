{
 "cells": [
  {
   "cell_type": "code",
   "execution_count": null,
   "id": "b68214d3-9dda-4b6b-95b2-741d247a8f84",
   "metadata": {},
   "outputs": [],
   "source": [
    "import time\n",
    "import math\n",
    "import numpy as np\n",
    "import matplotlib.pyplot as plt\n",
    "from matplotlib import cm\n",
    "import copy\n",
    "%matplotlib inline\n"
   ]
  },
  {
   "cell_type": "code",
   "execution_count": null,
   "id": "cb57e790-e6e2-47a7-83ca-8bb4998be4e2",
   "metadata": {},
   "outputs": [],
   "source": [
    "def mandelbrot(xpixels=600, maxiter=100, xmin=-2.6, xmax=1.85, ymin=-1.25, ymax=1.25):\n",
    "\n",
    "    # Compute ypixels so the image is not stretched (1:1 ratio)\n",
    "    ypixels = round(xpixels / (xmax-xmin) * (ymax-ymin))\n",
    "    \n",
    "    # Initialisation of result to 0\n",
    "    mat = np.zeros((xpixels, ypixels))\n",
    "    \n",
    "    # Looping through pixels\n",
    "    for x in range(xpixels):\n",
    "        for y in range(ypixels):\n",
    "            \n",
    "            # Mapping pixel to C\n",
    "            creal = xmin + x / xpixels * (xmax - xmin)\n",
    "            cim = ymin + y / ypixels * (ymax - ymin)\n",
    "            \n",
    "            # Initialisation of C and Z\n",
    "            c = complex(creal, cim)\n",
    "            z = complex(0, 0)\n",
    "            \n",
    "            # Mandelbrot iteration\n",
    "            for n in range(maxiter):\n",
    "                z = z*z + c\n",
    "                # If unbounded: save iteration count and break\n",
    "                if z.real*z.real + z.imag*z.imag > 4.0:\n",
    "                    # Smooth iteration count\n",
    "                    mat[x,y] = n + 1 - math.log(math.log(abs(z*z+c)))/math.log(2)\n",
    "                    break\n",
    "                # Otherwise: leave it to 0\n",
    "    return(mat)"
   ]
  },
  {
   "cell_type": "code",
   "execution_count": null,
   "id": "b8c5674f-2113-4f6b-86b1-db4119897e41",
   "metadata": {},
   "outputs": [],
   "source": [
    "def draw_image(mat, cmap='inferno', powern=0.5, dpi=72):\n",
    "    ## Value normalization\n",
    "    # Apply power normalization, because number of iteration is \n",
    "    # distributed according to a power law (fewer pixels have \n",
    "    # higher iteration number)\n",
    "    mat = np.power(mat, powern)\n",
    "    \n",
    "    # Colormap: set the color the black for values under vmin (inner points of\n",
    "    # the set), vmin will be set in the imshow function\n",
    "    new_cmap = copy.copy(cm.get_cmap(cmap))\n",
    "    new_cmap.set_under('black')\n",
    "    \n",
    "    ## Plotting image\n",
    "    \n",
    "    # Figure size\n",
    "    plt.figure(figsize=(mat.shape[0]/dpi, mat.shape[1]/dpi))\n",
    "    \n",
    "    # Plotting mat with cmap\n",
    "    # vmin=1 because smooth iteration count is always > 1\n",
    "    # We need to transpose mat because images use row-major\n",
    "    # ordering (C convention)\n",
    "    # origin='lower' because mat[0,0] is the lower left pixel\n",
    "    plt.imshow(mat.T, cmap=new_cmap, vmin=1, origin = 'lower')\n",
    "    \n",
    "    # Remove axis and margins\n",
    "    plt.subplots_adjust(left=0, right=1, bottom=0, top=1)\n",
    "    plt.axis('off')\n"
   ]
  },
  {
   "cell_type": "code",
   "execution_count": null,
   "id": "082df7b7-5c9f-450c-952b-7f6841a7745a",
   "metadata": {},
   "outputs": [],
   "source": [
    "# Running and plotting result\n",
    "mat = mandelbrot()\n",
    "draw_image(mat)\n"
   ]
  },
  {
   "cell_type": "code",
   "execution_count": null,
   "id": "86550f1c-14b7-4c68-bb93-755b79881c63",
   "metadata": {},
   "outputs": [],
   "source": [
    "# Measuring computation time\n",
    "%timeit -n 10 -r 3 mandelbrot()\n"
   ]
  },
  {
   "cell_type": "code",
   "execution_count": null,
   "id": "0c79d06c-7da8-4a22-bf1b-81e4be59cda5",
   "metadata": {},
   "outputs": [],
   "source": [
    "from numba import cuda"
   ]
  },
  {
   "cell_type": "code",
   "execution_count": null,
   "id": "c9fd03f1-f4be-4fa9-b2ee-786a6f8768a9",
   "metadata": {},
   "outputs": [],
   "source": [
    "@cuda.jit\n",
    "def mandelbrot_gpu(mat, maxiter=100, xmin=-2.6, xmax=1.85, ymin=-1.25, ymax=1.25):\n",
    "    x = cuda.blockIdx.x\n",
    "    y = cuda.threadIdx.x\n",
    "    \n",
    "    # Mapping pixel to C\n",
    "    creal = xmin + x / mat.shape[0] * (xmax - xmin)\n",
    "    cim = ymin + y / mat.shape[1] * (ymax - ymin)\n",
    "    \n",
    "    # Initialisation of C and Z\n",
    "    c = complex(creal, cim)\n",
    "    z = complex(0, 0)\n",
    "    \n",
    "    # Mandelbrot iteration\n",
    "    for n in range(maxiter):\n",
    "        z = z*z+c\n",
    "        # If unbounded: save iteration count and break\n",
    "        if z.real*z.real + z.imag*z.imag > 4.0:\n",
    "            # Smooth iteration count\n",
    "            mat[x,y] = n + 1 - math.log(math.log(abs(z*z+c)))/math.log(2)\n",
    "            break\n",
    "        # Otherwise: leave it to 0"
   ]
  },
  {
   "cell_type": "code",
   "execution_count": null,
   "id": "baf26e89-a218-4c24-80c9-16baaf6f7b9f",
   "metadata": {},
   "outputs": [],
   "source": [
    "# Parameters\n",
    "xmin, xmax = -2.6, 1.85\n",
    "ymin, ymax = -1.25, 1.25\n",
    "xpixels = 600\n",
    "ypixels = round(xpixels / (xmax-xmin) * (ymax-ymin))\n",
    "\n",
    "maxiter = 100\n",
    "mat = np.zeros((xpixels, ypixels))\n",
    "\n",
    "# Running and plotting result\n",
    "mandelbrot_gpu[xpixels, ypixels](mat, maxiter, xmin, xmax, ymin, ymax)\n",
    "draw_image(mat)\n"
   ]
  },
  {
   "cell_type": "code",
   "execution_count": null,
   "id": "99c7b24b-212d-4e73-8d7f-9526189fa2a8",
   "metadata": {},
   "outputs": [],
   "source": [
    "%timeit -n 10 -r 3 mandelbrot_gpu[xpixels, ypixels](mat, maxiter, xmin, xmax, ymin, ymax)"
   ]
  },
  {
   "cell_type": "code",
   "execution_count": null,
   "id": "50368e36-d2b0-4cc9-8808-679538a7095b",
   "metadata": {},
   "outputs": [],
   "source": []
  }
 ],
 "metadata": {
  "kernelspec": {
   "display_name": "Python 3 (ipykernel)",
   "language": "python",
   "name": "python3"
  },
  "language_info": {
   "codemirror_mode": {
    "name": "ipython",
    "version": 3
   },
   "file_extension": ".py",
   "mimetype": "text/x-python",
   "name": "python",
   "nbconvert_exporter": "python",
   "pygments_lexer": "ipython3",
   "version": "3.11.6"
  }
 },
 "nbformat": 4,
 "nbformat_minor": 5
}
