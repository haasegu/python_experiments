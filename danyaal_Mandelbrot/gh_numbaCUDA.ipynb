{
 "cells": [
  {
   "cell_type": "code",
   "execution_count": 1,
   "id": "29a3daf5-0a3a-4c07-8f69-4d6b3722001d",
   "metadata": {},
   "outputs": [],
   "source": [
    "import numpy as np\n",
    "import matplotlib.pyplot as plt\n",
    "# timing via time()\n",
    "from time import time\n",
    "from matplotlib import cm\n",
    "import copy\n",
    "%matplotlib inline"
   ]
  },
  {
   "cell_type": "code",
   "execution_count": 2,
   "id": "b03e88a2-1e8e-42bc-8dfc-d1ea8c582c9e",
   "metadata": {},
   "outputs": [],
   "source": [
    "def draw_image(mat, cmap='inferno', powern=0.5, dpi=72):\n",
    "    ## Value normalization\n",
    "    # Apply power normalization, because number of iteration is \n",
    "    # distributed according to a power law (fewer pixels have \n",
    "    # higher iteration number)\n",
    "    mat = np.power(mat, powern)\n",
    "    \n",
    "    # Colormap: set the color the black for values under vmin (inner points of\n",
    "    # the set), vmin will be set in the imshow function\n",
    "    # new_cmap = copy.copy(cm.get_cmap(cmap))  # depricated\n",
    "    # new_cmap = copy.copy(cm._colormaps[cmap])    # GH\n",
    "    new_cmap = copy.copy(plt.get_cmap())\n",
    "  \n",
    "    new_cmap.set_under('black')\n",
    "    \n",
    "    ## Plotting image\n",
    "    \n",
    "    # Figure size\n",
    "    plt.figure(figsize=(mat.shape[0]/dpi, mat.shape[1]/dpi))\n",
    "    \n",
    "    # Plotting mat with cmap\n",
    "    # vmin=1 because smooth iteration count is always > 1\n",
    "    # We need to transpose mat because images use row-major\n",
    "    # ordering (C convention)\n",
    "    # origin='lower' because mat[0,0] is the lower left pixel\n",
    "    plt.imshow(mat.T, cmap=new_cmap, vmin=1, origin = 'lower')\n",
    "    \n",
    "    # Remove axis and margins\n",
    "    plt.subplots_adjust(left=0, right=1, bottom=0, top=1)\n",
    "    plt.axis('off')\n"
   ]
  },
  {
   "cell_type": "code",
   "execution_count": 3,
   "id": "3cbd8e88-ebad-48ea-9d73-c8e3845a7adf",
   "metadata": {},
   "outputs": [],
   "source": [
    "from numba import prange, jit, njit"
   ]
  },
  {
   "cell_type": "code",
   "execution_count": 12,
   "id": "9f29bb2e-8828-4cf7-b8d6-7ef7f02160bf",
   "metadata": {},
   "outputs": [],
   "source": [
    "# counts the number of iterations until the function diverges or\n",
    "# returns the iteration threshold that we check until\n",
    "@jit(nopython=True)\n",
    "def countIterationsUntilDivergent(c, threshold):\n",
    "    z = complex(0, 0)\n",
    "    for iteration in range(threshold):\n",
    "        z = (z*z) + c\n",
    "\n",
    "        # if abs(z) > 4:                        # 0.063 sec\n",
    "        if z.real*z.real+z.imag*z.imag > 4*4:   # 0.017 sec\n",
    "            break\n",
    "    \n",
    "    return iteration"
   ]
  },
  {
   "cell_type": "markdown",
   "id": "64b61569-71cd-49cb-9928-e44f5a198f07",
   "metadata": {},
   "source": [
    "The function mandelbrot() is used in three modes: \n",
    "* pure python: three comment lines\n",
    "* jit-compiler: active  `@jit(nopython=True)`  and use   `for x in range`\n",
    "* njit-OpenMP-compiler: activate `@njit(parallel=True)`and use `for x in prange`"
   ]
  },
  {
   "cell_type": "code",
   "execution_count": 5,
   "id": "2fb02c1a-85e5-4229-b95d-8102542f7281",
   "metadata": {},
   "outputs": [],
   "source": [
    "# takes the iteration limit before declaring function as convergent and\n",
    "# takes the density of the atlas\n",
    "# create atlas, plot mandelbrot set, display set\n",
    "#@jit(nopython=True)\n",
    "@njit(parallel=True)\n",
    "def mandelbrot(threshold, density):\n",
    "    # location and size of the atlas rectangle\n",
    "    realAxis = np.linspace(-0.22, -0.219, density)\n",
    "    imaginaryAxis = np.linspace(-0.70, -0.699, density)\n",
    "    realAxisLen = len(realAxis)\n",
    "    imaginaryAxisLen = len(imaginaryAxis)\n",
    "    # print(realAxis.dtype)\n",
    "    # 2-D array to represent mandelbrot atlas\n",
    "    atlas = np.empty((realAxisLen, imaginaryAxisLen))\n",
    "\n",
    "    # color each point in the atlas depending on the iteration count\n",
    "    #for ix in range(realAxisLen):    \n",
    "    for ix in prange(realAxisLen):\n",
    "        for iy in range(imaginaryAxisLen):\n",
    "            cx = realAxis[ix]\n",
    "            cy = imaginaryAxis[iy]\n",
    "            c = complex(cx, cy)\n",
    "\n",
    "            atlas[ix, iy] = countIterationsUntilDivergent(c, threshold)\n",
    "    \n",
    "    return atlas"
   ]
  },
  {
   "cell_type": "code",
   "execution_count": 6,
   "id": "ec109878-a7ab-4f14-baaa-a6450ea713bc",
   "metadata": {},
   "outputs": [],
   "source": [
    "# Parameters\n",
    "xpixels = 1000\n",
    "ypixels = xpixels\n",
    "\n",
    "maxiter = 120\n",
    "mat = np.zeros((xpixels, ypixels))"
   ]
  },
  {
   "cell_type": "code",
   "execution_count": 7,
   "id": "420a0cf9-9d4c-4c0c-9a43-53f8138d7bcd",
   "metadata": {},
   "outputs": [],
   "source": [
    "mat = mandelbrot(maxiter,xpixels)\n",
    "#draw_image(mat)"
   ]
  },
  {
   "cell_type": "code",
   "execution_count": 9,
   "id": "42bb9090-526f-46e1-b950-71ea8b18a391",
   "metadata": {},
   "outputs": [
    {
     "name": "stdout",
     "output_type": "stream",
     "text": [
      "5.74 ms ± 344 µs per loop (mean ± std. dev. of 3 runs, 1 loop each)\n"
     ]
    }
   ],
   "source": [
    "%timeit -n 1 -r 3 mat=mandelbrot(maxiter,xpixels)"
   ]
  },
  {
   "cell_type": "code",
   "execution_count": 10,
   "id": "b43a6737-98d9-48db-bf87-17017dd78993",
   "metadata": {},
   "outputs": [],
   "source": [
    "# with CUDA\n",
    "from numba import cuda"
   ]
  },
  {
   "cell_type": "code",
   "execution_count": 30,
   "id": "7d307eb2-9518-4df7-871d-b81deafb7010",
   "metadata": {},
   "outputs": [],
   "source": [
    "# counts the number of iterations until the function diverges or\n",
    "# returns the iteration threshold that we check until\n",
    "@cuda.jit\n",
    "def countIterationsUntilDivergent_GPU(mat,realAxis,realAxisLen,imaginaryAxis,imaginaryAxisLen, threshold):\n",
    "    x = cuda.blockIdx.x\n",
    "    y = cuda.threadIdx.x\n",
    "    if x>=realAxisLen or y>=imaginaryAxisLen: return\n",
    "    c = complex(realAxis[x], imaginaryAxis[y])\n",
    "    z = complex(0, 0)\n",
    "    for iteration in range(threshold):\n",
    "        z = (z*z) + c\n",
    "\n",
    "        # if abs(z) > 4:                        # 0.063 sec\n",
    "        if z.real*z.real+z.imag*z.imag > 4*4:   # 0.017 sec\n",
    "            break\n",
    "    \n",
    "    mat[x][y] = iteration"
   ]
  },
  {
   "cell_type": "code",
   "execution_count": 31,
   "id": "5b422d13-5baa-45f2-acac-24a48e7b6a0c",
   "metadata": {},
   "outputs": [],
   "source": [
    "def mandelbrot_GPU(threshold, density):\n",
    "    # location and size of the atlas rectangle\n",
    "    realAxis = np.linspace(-0.22, -0.219, density)\n",
    "    imaginaryAxis = np.linspace(-0.70, -0.699, density)\n",
    "    realAxisLen = len(realAxis)\n",
    "    imaginaryAxisLen = len(imaginaryAxis)\n",
    "    # print(realAxis.dtype)\n",
    "    # 2-D array to represent mandelbrot atlas\n",
    "    atlas = np.empty((realAxisLen, imaginaryAxisLen))\n",
    "\n",
    "    #print(type(imaginaryAxisLen))\n",
    "    \n",
    "    countIterationsUntilDivergent_GPU[realAxisLen,imaginaryAxisLen](atlas,realAxis,realAxisLen,imaginaryAxis,imaginaryAxisLen, threshold)\n",
    "\n",
    "    # color each point in the atlas depending on the iteration count\n",
    "    #for ix in prange(realAxisLen):\n",
    "    #    for iy in range(imaginaryAxisLen):\n",
    "    #        cx = realAxis[ix]\n",
    "    #        cy = imaginaryAxis[iy]\n",
    "    #        c = complex(cx, cy)\n",
    "    #        atlas[ix, iy] = countIterationsUntilDivergent_GPU(c, threshold)\n",
    "    \n",
    "    return atlas"
   ]
  },
  {
   "cell_type": "code",
   "execution_count": 32,
   "id": "508f3624-5581-4e38-9beb-3cc5c86ba5fe",
   "metadata": {},
   "outputs": [
    {
     "name": "stderr",
     "output_type": "stream",
     "text": [
      "/home/haasegu/.local/lib/python3.11/site-packages/numba/cuda/cudadrv/devicearray.py:888: NumbaPerformanceWarning: Host array used in CUDA kernel will incur copy overhead to/from device.\n",
      "  warn(NumbaPerformanceWarning(msg))\n"
     ]
    }
   ],
   "source": [
    "mat_GPU = mandelbrot_GPU(maxiter,xpixels)\n",
    "#draw_image(mat_GPU)"
   ]
  },
  {
   "cell_type": "code",
   "execution_count": 43,
   "id": "2bb3c824-dd7e-4789-8b1a-9e3256834cc3",
   "metadata": {},
   "outputs": [
    {
     "name": "stdout",
     "output_type": "stream",
     "text": [
      "3.7 ms ± 102 µs per loop (mean ± std. dev. of 3 runs, 100 loops each)\n"
     ]
    }
   ],
   "source": [
    "%timeit -n 100 -r 3 mandelbrot_GPU(maxiter,xpixels)"
   ]
  },
  {
   "cell_type": "code",
   "execution_count": null,
   "id": "c14d9f78-e890-4a41-843f-d31681529cd5",
   "metadata": {},
   "outputs": [],
   "source": []
  },
  {
   "cell_type": "code",
   "execution_count": null,
   "id": "0dc30f61-6a15-4063-980e-6c1786a84644",
   "metadata": {},
   "outputs": [],
   "source": []
  }
 ],
 "metadata": {
  "kernelspec": {
   "display_name": "Python 3 (ipykernel)",
   "language": "python",
   "name": "python3"
  },
  "language_info": {
   "codemirror_mode": {
    "name": "ipython",
    "version": 3
   },
   "file_extension": ".py",
   "mimetype": "text/x-python",
   "name": "python",
   "nbconvert_exporter": "python",
   "pygments_lexer": "ipython3",
   "version": "3.11.6"
  }
 },
 "nbformat": 4,
 "nbformat_minor": 5
}
